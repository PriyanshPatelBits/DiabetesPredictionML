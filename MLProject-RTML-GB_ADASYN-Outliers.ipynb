{
 "cells": [
  {
   "cell_type": "code",
   "execution_count": 2,
   "id": "b4d4e7b7-f565-4676-94ad-e056e21813b9",
   "metadata": {},
   "outputs": [],
   "source": [
    "import timeit\n",
    "import numpy as np\n",
    "import pandas as pd\n",
    "import seaborn as sns\n",
    "import matplotlib.pyplot as plt\n",
    "from sklearn.impute import SimpleImputer\n",
    "from sklearn.utils import resample\n",
    "from imblearn.over_sampling import SMOTE\n",
    "from sklearn.preprocessing import StandardScaler\n",
    "from sklearn.feature_selection import mutual_info_classif\n",
    "from sklearn.model_selection import train_test_split, KFold, StratifiedKFold, cross_val_score, GridSearchCV, RandomizedSearchCV\n",
    "from xgboost import XGBClassifier, XGBRegressor\n",
    "from lightgbm import LGBMClassifier\n",
    "from catboost import CatBoostClassifier\n",
    "from sklearn.ensemble import AdaBoostClassifier, GradientBoostingClassifier\n",
    "from sklearn.tree import DecisionTreeClassifier\n",
    "from sklearn.metrics import mean_squared_error, confusion_matrix, classification_report, accuracy_score, precision_score, recall_score, f1_score, auc, roc_curve, roc_auc_score, precision_recall_curve\n",
    "from scipy.stats import uniform, randint\n",
    "from imblearn.over_sampling import ADASYN\n",
    "from collections import Counter\n",
    "\n",
    "# Ensure plots are displayed within the notebook\n",
    "%matplotlib inline\n"
   ]
  },
  {
   "cell_type": "code",
   "execution_count": 3,
   "id": "30f2a7ae-0faa-42a4-bc9e-7c752f4573cd",
   "metadata": {},
   "outputs": [],
   "source": [
    "url = \"https://raw.githubusercontent.com/jbrownlee/Datasets/master/pima-indians-diabetes.data.csv\"\n",
    "column_names = ['Pregnancies', 'Glucose', 'BloodPressure', 'SkinThickness', 'Insulin', 'BMI', 'DiabetesPedigreeFunction', 'Age', 'Outcome']\n",
    "Pima_dataset = pd.read_csv(url, header=None, names=column_names)\n"
   ]
  },
  {
   "cell_type": "code",
   "execution_count": 4,
   "id": "d45d06bb-e2a9-44d5-a22e-d90cf0c85e70",
   "metadata": {},
   "outputs": [
    {
     "data": {
      "text/html": [
       "<div>\n",
       "<style scoped>\n",
       "    .dataframe tbody tr th:only-of-type {\n",
       "        vertical-align: middle;\n",
       "    }\n",
       "\n",
       "    .dataframe tbody tr th {\n",
       "        vertical-align: top;\n",
       "    }\n",
       "\n",
       "    .dataframe thead th {\n",
       "        text-align: right;\n",
       "    }\n",
       "</style>\n",
       "<table border=\"1\" class=\"dataframe\">\n",
       "  <thead>\n",
       "    <tr style=\"text-align: right;\">\n",
       "      <th></th>\n",
       "      <th>Pregnancies</th>\n",
       "      <th>Glucose</th>\n",
       "      <th>BloodPressure</th>\n",
       "      <th>SkinThickness</th>\n",
       "      <th>Insulin</th>\n",
       "      <th>BMI</th>\n",
       "      <th>DiabetesPedigreeFunction</th>\n",
       "      <th>Age</th>\n",
       "      <th>Outcome</th>\n",
       "    </tr>\n",
       "  </thead>\n",
       "  <tbody>\n",
       "    <tr>\n",
       "      <th>0</th>\n",
       "      <td>6</td>\n",
       "      <td>148</td>\n",
       "      <td>72</td>\n",
       "      <td>35</td>\n",
       "      <td>0</td>\n",
       "      <td>33.6</td>\n",
       "      <td>0.627</td>\n",
       "      <td>50</td>\n",
       "      <td>1</td>\n",
       "    </tr>\n",
       "    <tr>\n",
       "      <th>1</th>\n",
       "      <td>1</td>\n",
       "      <td>85</td>\n",
       "      <td>66</td>\n",
       "      <td>29</td>\n",
       "      <td>0</td>\n",
       "      <td>26.6</td>\n",
       "      <td>0.351</td>\n",
       "      <td>31</td>\n",
       "      <td>0</td>\n",
       "    </tr>\n",
       "    <tr>\n",
       "      <th>2</th>\n",
       "      <td>8</td>\n",
       "      <td>183</td>\n",
       "      <td>64</td>\n",
       "      <td>0</td>\n",
       "      <td>0</td>\n",
       "      <td>23.3</td>\n",
       "      <td>0.672</td>\n",
       "      <td>32</td>\n",
       "      <td>1</td>\n",
       "    </tr>\n",
       "    <tr>\n",
       "      <th>3</th>\n",
       "      <td>1</td>\n",
       "      <td>89</td>\n",
       "      <td>66</td>\n",
       "      <td>23</td>\n",
       "      <td>94</td>\n",
       "      <td>28.1</td>\n",
       "      <td>0.167</td>\n",
       "      <td>21</td>\n",
       "      <td>0</td>\n",
       "    </tr>\n",
       "    <tr>\n",
       "      <th>4</th>\n",
       "      <td>0</td>\n",
       "      <td>137</td>\n",
       "      <td>40</td>\n",
       "      <td>35</td>\n",
       "      <td>168</td>\n",
       "      <td>43.1</td>\n",
       "      <td>2.288</td>\n",
       "      <td>33</td>\n",
       "      <td>1</td>\n",
       "    </tr>\n",
       "  </tbody>\n",
       "</table>\n",
       "</div>"
      ],
      "text/plain": [
       "   Pregnancies  Glucose  BloodPressure  SkinThickness  Insulin   BMI  \\\n",
       "0            6      148             72             35        0  33.6   \n",
       "1            1       85             66             29        0  26.6   \n",
       "2            8      183             64              0        0  23.3   \n",
       "3            1       89             66             23       94  28.1   \n",
       "4            0      137             40             35      168  43.1   \n",
       "\n",
       "   DiabetesPedigreeFunction  Age  Outcome  \n",
       "0                     0.627   50        1  \n",
       "1                     0.351   31        0  \n",
       "2                     0.672   32        1  \n",
       "3                     0.167   21        0  \n",
       "4                     2.288   33        1  "
      ]
     },
     "execution_count": 4,
     "metadata": {},
     "output_type": "execute_result"
    }
   ],
   "source": [
    "Pima_dataset.head()\n"
   ]
  },
  {
   "cell_type": "code",
   "execution_count": 5,
   "id": "526e198a-956a-4250-94b0-5a4b02663954",
   "metadata": {},
   "outputs": [
    {
     "name": "stdout",
     "output_type": "stream",
     "text": [
      "Analysing Original Data Distribution\n",
      "------------------------------------\n",
      "Null values in features\n",
      "Pregnancies                 0\n",
      "Glucose                     0\n",
      "BloodPressure               0\n",
      "SkinThickness               0\n",
      "Insulin                     0\n",
      "BMI                         0\n",
      "DiabetesPedigreeFunction    0\n",
      "Age                         0\n",
      "Outcome                     0\n",
      "dtype: int64\n",
      "\n",
      "Zero values in features\n",
      "Glucose                   5\n",
      "BloodPressure             35\n",
      "Skin thickness            227\n",
      "Insulin                   374\n",
      "BMI                       11\n",
      "DiabetesPedigreeFunction  0\n",
      "Age                       0\n"
     ]
    }
   ],
   "source": [
    "print(\"Analysing Original Data Distribution\")\n",
    "print(\"------------------------------------\")\n",
    "\n",
    "# Check for missing values or zero values\n",
    "print(\"Null values in features\")\n",
    "print(Pima_dataset.isnull().sum())\n",
    "print()\n",
    "print(\"Zero values in features\")\n",
    "print(\"Glucose                   {0}\".format(len(Pima_dataset.loc[Pima_dataset['Glucose'] == 0])))\n",
    "print(\"BloodPressure             {0}\".format(len(Pima_dataset.loc[Pima_dataset['BloodPressure'] == 0])))\n",
    "print(\"Skin thickness            {0}\".format(len(Pima_dataset.loc[Pima_dataset['SkinThickness'] == 0])))\n",
    "print(\"Insulin                   {0}\".format(len(Pima_dataset.loc[Pima_dataset['Insulin'] == 0])))\n",
    "print(\"BMI                       {0}\".format(len(Pima_dataset.loc[Pima_dataset['BMI'] == 0])))\n",
    "print(\"DiabetesPedigreeFunction  {0}\".format(len(Pima_dataset.loc[Pima_dataset['DiabetesPedigreeFunction'] == 0])))\n",
    "print(\"Age                       {0}\".format(len(Pima_dataset.loc[Pima_dataset['Age'] == 0])))\n",
    "\n",
    "# # Visualize data distribution\n",
    "# sns.pairplot(data, hue='Outcome')\n",
    "# plt.show()\n"
   ]
  },
  {
   "cell_type": "code",
   "execution_count": 6,
   "id": "fce5371c-cc4b-477b-9f86-2e6e663aadae",
   "metadata": {},
   "outputs": [],
   "source": [
    "imputer = SimpleImputer(strategy='mean', missing_values=0)\n",
    "imputer = imputer.fit(Pima_dataset[['Glucose','BloodPressure','SkinThickness','Insulin','BMI']])\n",
    "Pima_dataset[['Glucose','BloodPressure','SkinThickness','Insulin','BMI']] = imputer.transform(Pima_dataset[['Glucose','BloodPressure','SkinThickness','Insulin','BMI']])\n"
   ]
  },
  {
   "cell_type": "code",
   "execution_count": 7,
   "id": "c94475fa-e069-444d-b365-88bf763a3d0a",
   "metadata": {},
   "outputs": [
    {
     "name": "stdout",
     "output_type": "stream",
     "text": [
      "Verifying no Zero values left in features after mean imputing\n",
      "Glucose                   0\n",
      "BloodPressure             0\n",
      "Skin thickness            0\n",
      "Insulin                   0\n",
      "BMI                       0\n",
      "DiabetesPedigreeFunction  0\n",
      "Age                       0\n"
     ]
    }
   ],
   "source": [
    "print(\"Verifying no Zero values left in features after mean imputing\")\n",
    "print(\"Glucose                   {0}\".format(len(Pima_dataset.loc[Pima_dataset['Glucose'] == 0])))\n",
    "print(\"BloodPressure             {0}\".format(len(Pima_dataset.loc[Pima_dataset['BloodPressure'] == 0])))\n",
    "print(\"Skin thickness            {0}\".format(len(Pima_dataset.loc[Pima_dataset['SkinThickness'] == 0])))\n",
    "print(\"Insulin                   {0}\".format(len(Pima_dataset.loc[Pima_dataset['Insulin'] == 0])))\n",
    "print(\"BMI                       {0}\".format(len(Pima_dataset.loc[Pima_dataset['BMI'] == 0])))\n",
    "print(\"DiabetesPedigreeFunction  {0}\".format(len(Pima_dataset.loc[Pima_dataset['DiabetesPedigreeFunction'] == 0])))\n",
    "print(\"Age                       {0}\".format(len(Pima_dataset.loc[Pima_dataset['Age'] == 0])))"
   ]
  },
  {
   "cell_type": "code",
   "execution_count": 8,
   "id": "e107006e-0cdb-4df0-81fc-57a3b7490192",
   "metadata": {},
   "outputs": [
    {
     "data": {
      "text/plain": [
       "<Axes: >"
      ]
     },
     "execution_count": 8,
     "metadata": {},
     "output_type": "execute_result"
    },
    {
     "data": {
      "image/png": "[encoded data removed]",
      "text/plain": [
       "<Figure size 2000x800 with 1 Axes>"
      ]
     },
     "metadata": {},
     "output_type": "display_data"
    }
   ],
   "source": [
    "# Separate features and target\n",
    "X = Pima_dataset.drop(columns='Outcome', axis=1)\n",
    "y = Pima_dataset['Outcome']\n",
    "X_train, X_test, y_train, y_test = train_test_split(X, y, test_size = 0.20, random_state = 0)\n",
    "mutual_info = pd.Series(mutual_info_classif(X_train, y_train, random_state = 0))\n",
    "mutual_info.index = X_train.columns\n",
    "mutual_info.sort_values(ascending = False)\n",
    "plt.figure(figsize = (20, 8))\n",
    "mutual_info.sort_values(ascending = False).plot.bar()"
   ]
  },
  {
   "cell_type": "code",
   "execution_count": 9,
   "id": "11ca8a28-7a5e-48f3-bfae-fdd715d33c5a",
   "metadata": {},
   "outputs": [
    {
     "name": "stdout",
     "output_type": "stream",
     "text": [
      "Dropping DPF i.e. features not related to outcome\n"
     ]
    }
   ],
   "source": [
    "print(\"Dropping DPF i.e. features not related to outcome\")\n",
    "Pima_dataset.drop(columns='DiabetesPedigreeFunction',axis=1, inplace=True)"
   ]
  },
  {
   "cell_type": "code",
   "execution_count": 10,
   "id": "871433ed-c9bd-44fd-bb83-a9d507c612c9",
   "metadata": {},
   "outputs": [
    {
     "name": "stdout",
     "output_type": "stream",
     "text": [
      "Predicting Insulin values for RTML Dataset (to be merged with PIMA) using XGBoost\n",
      "Insulin Regressor RMSE score: 85.79124540997681\n"
     ]
    }
   ],
   "source": [
    "print(\"Predicting Insulin values for RTML Dataset (to be merged with PIMA) using XGBoost\")\n",
    "X = Pima_dataset.drop(columns='Insulin', axis=1)\n",
    "y = Pima_dataset['Insulin']\n",
    "X_train, X_test, y_train, y_test = train_test_split(X, y, test_size = 0.20, random_state = 0)\n",
    "XGB = XGBRegressor(max_depth=10,learning_rate=0.1)\n",
    "XGB.fit(X_train,y_train)\n",
    "predictions_xgb = XGB.predict(X_test)\n",
    "final_mse = mean_squared_error(y_test, predictions_xgb)\n",
    "final_rmse = np.sqrt(final_mse)\n",
    "print(\"Insulin Regressor RMSE score:\", final_rmse)"
   ]
  },
  {
   "cell_type": "code",
   "execution_count": 11,
   "id": "1fa0a1e0-c4f0-42f9-8efa-f923f1648e29",
   "metadata": {},
   "outputs": [
    {
     "name": "stdout",
     "output_type": "stream",
     "text": [
      "Null values in features\n",
      "Replacing Null Insulin feature from RTML with Predicted values\n"
     ]
    },
    {
     "data": {
      "text/plain": [
       "<bound method NDFrame.head of      Pregnancies  Glucose  BloodPressure  SkinThickness     Insulin  \\\n",
       "0              5     88.2          106.0            4.8  204.799011   \n",
       "1              6     73.8           74.0            7.5  211.457794   \n",
       "2              1     86.4           87.0           18.4  119.480362   \n",
       "3              1     97.2           71.0           15.0   67.878632   \n",
       "4              5     90.0           96.0            7.6  220.453064   \n",
       "..           ...      ...            ...            ...         ...   \n",
       "104            3    187.2           79.0            9.4  177.282700   \n",
       "105            2    149.4           82.0            9.8  218.581390   \n",
       "106            1    163.8           84.0            6.5  192.582047   \n",
       "107            4    167.4           86.0           11.7  242.816025   \n",
       "108            2    171.0           78.0           10.8  189.431580   \n",
       "\n",
       "           BMI  Age  Outcome  \n",
       "0    14.794213   50        0  \n",
       "1    24.851410   50        0  \n",
       "2    41.621307   30        0  \n",
       "3    22.608427   28        0  \n",
       "4    19.154528   50        0  \n",
       "..         ...  ...      ...  \n",
       "104  26.899430   36        1  \n",
       "105  28.554780   44        1  \n",
       "106  31.000062   52        1  \n",
       "107  29.457447   54        1  \n",
       "108  31.037804   56        1  \n",
       "\n",
       "[109 rows x 8 columns]>"
      ]
     },
     "execution_count": 11,
     "metadata": {},
     "output_type": "execute_result"
    }
   ],
   "source": [
    "RTML_dataset = pd.read_excel('RTML without Insulin.xlsx')\n",
    "print(\"Null values in features\")\n",
    "RTML_dataset.isna().sum()\n",
    "print(\"Replacing Null Insulin feature from RTML with Predicted values\")\n",
    "X1 = RTML_dataset.drop(columns='Insulin', axis=1)\n",
    "Y1 = XGB.predict(X1)\n",
    "Y2= pd.DataFrame(Y1)\n",
    "Y2.columns=['Insulin']\n",
    "RTML_dataset.drop(columns='Insulin',axis=1, inplace=True)\n",
    "Insulin_Merged = pd.concat([RTML_dataset, Y2], axis=1)\n",
    "RTML_Merged = Insulin_Merged[[\"Pregnancies\", \"Glucose\", \"BloodPressure\",\"SkinThickness\",\"Insulin\", \"BMI\", \"Age\",\"Outcome\"]]\n",
    "RTML_Merged.head"
   ]
  },
  {
   "cell_type": "code",
   "execution_count": 12,
   "id": "a9641e95-a29f-4d45-96e8-4d44d599529a",
   "metadata": {},
   "outputs": [
    {
     "name": "stdout",
     "output_type": "stream",
     "text": [
      "Merging RTML with PIMA\n",
      "Number of samples and features: (877, 8)\n"
     ]
    }
   ],
   "source": [
    "print(\"Merging RTML with PIMA\")\n",
    "pieces = {\"x\": Pima_dataset, \"y\": RTML_Merged}\n",
    "data = pd.concat(pieces)\n",
    "print(\"Number of samples and features:\", data.shape)"
   ]
  },
  {
   "cell_type": "code",
   "execution_count": 13,
   "id": "4438f93f-00f2-49e9-9d5c-775875253fbd",
   "metadata": {},
   "outputs": [
    {
     "name": "stdout",
     "output_type": "stream",
     "text": [
      "Number of samples and features after outliers removal using IQR(threshold = 1.50): (698, 8)\n"
     ]
    }
   ],
   "source": [
    "# def detect_outliers_z_score(feature, threshold=3):    # outputs a list of values which are outliers for that feature\n",
    "#     z_scores = np.abs((feature - feature.mean()) / feature.std())\n",
    "#     outliers = np.where(z_scores > threshold)    # how does it store the actual value instead of normalized in the outliers list?\n",
    "#     return outliers\n",
    "\n",
    "# # Detect outliers for each feature using Z-score\n",
    "# z_score_outliers = {}\n",
    "# for column in X.columns:\n",
    "#     outliers = detect_outliers_z_score(X[column])\n",
    "#     z_score_outliers[column] = outliers[0]\n",
    "\n",
    "# # Display the outliers\n",
    "# for column, outliers in z_score_outliers.items():\n",
    "#     print(f\"Outliers in {column}: {outliers}\")\n",
    "\n",
    "# def detect_outliers_iqr(data, threshold=1.5):\n",
    "#     Q1 = data.quantile(0.25)\n",
    "#     Q3 = data.quantile(0.75)\n",
    "#     IQR = Q3 - Q1\n",
    "#     outliers = data[((data < (Q1 - threshold * IQR)) | (data > (Q3 + threshold * IQR)))]    # What logic?\n",
    "#     return outliers\n",
    "\n",
    "# # Detect outliers for each feature using IQR\n",
    "# iqr_outliers = {}\n",
    "# for column in X.columns:\n",
    "#     outliers = detect_outliers_iqr(X[column])\n",
    "#     iqr_outliers[column] = outliers\n",
    "\n",
    "# # Display the outliers\n",
    "# for column, outliers in iqr_outliers.items():\n",
    "#     print(f\"Outliers in {column}: {outliers.index.tolist()}\")    # why so much processing needed?\n",
    "\n",
    "def remove_outliers_iqr(df,threshold=1.5):\n",
    "    # Identify columns with numerical data\n",
    "    num_cols = df.select_dtypes(include=['float64', 'int64']).columns\n",
    "    \n",
    "    for col in num_cols:\n",
    "        Q1 = df[col].quantile(0.25)\n",
    "        Q3 = df[col].quantile(0.75)\n",
    "        IQR = Q3 - Q1\n",
    "        lower_bound = Q1 - threshold * IQR\n",
    "        upper_bound = Q3 + threshold * IQR\n",
    "        \n",
    "        # Filter the dataframe to remove outliers\n",
    "        df = df[(df[col] >= lower_bound) & (df[col] <= upper_bound)]\n",
    "    \n",
    "    return df\n",
    "\n",
    "# Remove outliers using IQR\n",
    "threshold = 1.5\n",
    "data = remove_outliers_iqr(pd.DataFrame(data), threshold)\n",
    "print(f\"Number of samples and features after outliers removal using IQR(threshold = {threshold:.2f}):\", data.shape)"
   ]
  },
  {
   "cell_type": "code",
   "execution_count": 14,
   "id": "3a69060d-45c1-4ed8-9fad-27fd90280440",
   "metadata": {},
   "outputs": [
    {
     "name": "stdout",
     "output_type": "stream",
     "text": [
      "Original class distribution:\n",
      "Outcome\n",
      "0    488\n",
      "1    210\n",
      "Name: count, dtype: int64\n",
      "\n",
      "Class distribution after SMOTE:\n",
      "Outcome\n",
      "1    512\n",
      "0    488\n",
      "Name: count, dtype: int64\n",
      "\n",
      "Number of rows before ADASYN: 698\n",
      "Number of rows after ADASYN: 1000\n"
     ]
    }
   ],
   "source": [
    "# Separate features and target\n",
    "X = data.drop('Outcome', axis=1)\n",
    "y = data['Outcome']\n",
    "\n",
    "# Apply ADASYN\n",
    "ada = ADASYN(random_state=0,sampling_strategy='minority')\n",
    "X_resampled, y_resampled = ada.fit_resample(X, y)\n",
    "\n",
    "# Normalize features\n",
    "X_scaled = StandardScaler().fit_transform(X_resampled)\n",
    "\n",
    "# Check original class distribution\n",
    "print(\"Original class distribution:\")\n",
    "print(y.value_counts())\n",
    "print()\n",
    "\n",
    "# Check new class distribution\n",
    "print(\"Class distribution after SMOTE:\")\n",
    "print(y_resampled.value_counts())\n",
    "print()\n",
    "\n",
    "# Verify the number of rows before and after SMOTE\n",
    "print(f\"Number of rows before ADASYN: {X.shape[0]}\")\n",
    "print(f\"Number of rows after ADASYN: {X_resampled.shape[0]}\")"
   ]
  },
  {
   "cell_type": "code",
   "execution_count": 15,
   "id": "b1dcb0de-95e2-4f66-8701-ddd76424e72a",
   "metadata": {},
   "outputs": [],
   "source": [
    "# Spliting Data into Training and Testing sets using Stratify \n",
    "X_train, X_test, y_train, y_test = train_test_split(X_scaled, y_resampled, test_size = 0.20, random_state = 42, stratify=y_resampled)"
   ]
  },
  {
   "cell_type": "code",
   "execution_count": 16,
   "id": "ae60e6b7-db0e-4a01-8b1a-051c71526353",
   "metadata": {},
   "outputs": [
    {
     "name": "stdout",
     "output_type": "stream",
     "text": [
      "Best Hyperparameters: {'criterion': 'friedman_mse', 'learning_rate': 0.13687026894027277, 'max_depth': 8, 'max_features': 'sqrt', 'min_samples_leaf': 5, 'min_samples_split': 13, 'n_estimators': 779, 'subsample': 0.9942601816442402}\n",
      "Best Cross-validation Score: 0.81875\n",
      "Cross-validation Score: 83.79999999999998 +/- 3.4583232931581156 %\n",
      "Precision: 0.8387539416132642\n",
      "Recall: 0.835\n",
      "F1-score: 0.8343155248271528\n",
      "AUPRC: 0.913768112357054\n",
      "ROC AUC: 0.9218687474989996\n"
     ]
    },
    {
     "data": {
      "image/png": "[encoded data removed]",
      "text/plain": [
       "<Figure size 640x480 with 1 Axes>"
      ]
     },
     "metadata": {},
     "output_type": "display_data"
    },
    {
     "data": {
      "image/png": "[encoded data removed]",
      "text/plain": [
       "<Figure size 640x480 with 1 Axes>"
      ]
     },
     "metadata": {},
     "output_type": "display_data"
    }
   ],
   "source": [
    "\n",
    "# Gradient Boosting\n",
    "model = GradientBoostingClassifier(random_state=23)\n",
    "\n",
    "# Define the parameter distribution\n",
    "param_dist = {\n",
    "    'learning_rate': uniform(0.01, 0.2),\n",
    "    'n_estimators': randint(50, 1000),\n",
    "    'min_samples_split': randint(2, 32),\n",
    "    'min_samples_leaf': randint(1, 16),\n",
    "    'max_depth': randint(3, 10),\n",
    "    'subsample': uniform(0.6, 0.4),\n",
    "    'max_features': [None, 'sqrt', 'log2'],\n",
    "    'criterion': ['friedman_mse', 'squared_error']\n",
    "}\n",
    "\n",
    "# Set up the random search with cross-validation\n",
    "random_search = RandomizedSearchCV(estimator=model, param_distributions=param_dist, n_iter=100, cv=5, scoring='accuracy', n_jobs=-1, random_state=42)\n",
    "\n",
    "# Fit the random search\n",
    "random_search.fit(X_train, y_train)\n",
    "\n",
    "# Print the best hyperparameters\n",
    "print(\"Best Hyperparameters:\", random_search.best_params_)\n",
    "print(\"Best Cross-validation Score:\", random_search.best_score_)\n",
    "\n",
    "# Evaluate the model using K-fold cross-validation with the best hyperparameters\n",
    "best_model = random_search.best_estimator_\n",
    "skf = StratifiedKFold(n_splits=10, shuffle=True, random_state=42)\n",
    "cv_scores = cross_val_score(best_model, X_scaled, y_resampled, cv=skf, scoring='accuracy')\n",
    "\n",
    "# Print the cross-validation scores\n",
    "print(\"Cross-validation Score:\", (cv_scores.mean() *100), \"+/-\", (cv_scores.std()*100), \"%\")\n",
    "\n",
    "# Make predictions\n",
    "y_pred = best_model.predict(X_test)\n",
    "y_pred_proba = best_model.predict_proba(X_test)[:, 1]\n",
    "\n",
    "# Precision\n",
    "precision = precision_score(y_test, y_pred, average='weighted')\n",
    "print(\"Precision:\", precision)\n",
    "\n",
    "# Recall\n",
    "recall = recall_score(y_test, y_pred, average='weighted')\n",
    "print(\"Recall:\", recall)\n",
    "\n",
    "# F1-score\n",
    "f1 = f1_score(y_test, y_pred, average='weighted')\n",
    "print(\"F1-score:\", f1)\n",
    "\n",
    "# Precision-Recall Curve and AUPRC\n",
    "precision_curve, recall_curve, _ = precision_recall_curve(y_test, y_pred_proba, pos_label=1)\n",
    "auprc = auc(recall_curve, precision_curve)\n",
    "print(\"AUPRC:\", auprc)\n",
    "\n",
    "# ROC Curve and AUC\n",
    "fpr, tpr, _ = roc_curve(y_test, y_pred_proba, pos_label=1)\n",
    "roc_auc = roc_auc_score(y_test, y_pred_proba)\n",
    "print(\"ROC AUC:\", roc_auc)\n",
    "\n",
    "# Plot Precision-Recall Curve\n",
    "plt.figure()\n",
    "plt.plot(recall_curve, precision_curve, label=f'Gradient Boosting (AUPRC = {auprc:.2f})')\n",
    "plt.xlabel('Recall')\n",
    "plt.ylabel('Precision')\n",
    "plt.title('Precision-Recall Curve')\n",
    "plt.legend(loc='best')\n",
    "plt.show()\n",
    "\n",
    "# Plot ROC Curve\n",
    "plt.figure()\n",
    "plt.plot(fpr, tpr, label=f'Gradient Boosting (AUC = {roc_auc:.2f})')\n",
    "plt.xlabel('False Positive Rate')\n",
    "plt.ylabel('True Positive Rate')\n",
    "plt.title('ROC Curve')\n",
    "plt.legend(loc='best')\n",
    "plt.show()\n"
   ]
  }
 ],
 "metadata": {
  "kernelspec": {
   "display_name": "Python 3 (ipykernel)",
   "language": "python",
   "name": "python3"
  },
  "language_info": {
   "codemirror_mode": {
    "name": "ipython",
    "version": 3
   },
   "file_extension": ".py",
   "mimetype": "text/x-python",
   "name": "python",
   "nbconvert_exporter": "python",
   "pygments_lexer": "ipython3",
   "version": "3.12.4"
  }
 },
 "nbformat": 4,
 "nbformat_minor": 5
}
